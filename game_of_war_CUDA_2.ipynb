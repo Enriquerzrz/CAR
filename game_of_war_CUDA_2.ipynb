{
  "nbformat": 4,
  "nbformat_minor": 0,
  "metadata": {
    "interpreter": {
      "hash": "6e25e0c6b71e61659e9f8263754eddc5c7d88ab8056482ebf8e1f90fdd579341"
    },
    "kernelspec": {
      "display_name": "Python 3.8.11 64-bit ('Ceiec': conda)",
      "name": "python3"
    },
    "language_info": {
      "codemirror_mode": {
        "name": "ipython",
        "version": 3
      },
      "file_extension": ".py",
      "mimetype": "text/x-python",
      "name": "python",
      "nbconvert_exporter": "python",
      "pygments_lexer": "ipython3",
      "version": "3.8.11"
    },
    "orig_nbformat": 4,
    "colab": {
      "name": "game_of_war_CUDA.ipynb",
      "provenance": []
    },
    "accelerator": "GPU"
  },
  "cells": [
    {
      "cell_type": "markdown",
      "metadata": {
        "id": "HmPd_GhM1hQa"
      },
      "source": [
        "# GAME OF WAR\n"
      ]
    },
    {
      "cell_type": "markdown",
      "metadata": {
        "id": "DLdpZhGQ1hQd"
      },
      "source": [
        "## Creadores\n",
        "\n",
        "Enrique Ruiz Ruiz y Sergio Morante Mur"
      ]
    },
    {
      "cell_type": "markdown",
      "metadata": {
        "id": "cinyG54O1hQe"
      },
      "source": [
        "## Librerías"
      ]
    },
    {
      "cell_type": "code",
      "metadata": {
        "id": "W-kyGLVW1hQe"
      },
      "source": [
        "import numpy as np # Se importa numpuy\n",
        "import matplotlib.pyplot as plt # Se importa matplotlib\n",
        "from matplotlib import colors # Se importa colors\n",
        "import random # Se importa random\n",
        "import time # Se importa time"
      ],
      "execution_count": 1,
      "outputs": []
    },
    {
      "cell_type": "markdown",
      "metadata": {
        "id": "weLqP5Xw1hQg"
      },
      "source": [
        "## Variables globales\n"
      ]
    },
    {
      "cell_type": "code",
      "metadata": {
        "id": "9RYhkHny1hQg"
      },
      "source": [
        "AZUL = (27, 167, 249) # Color Azul\n",
        "ROJO = (237, 70, 70) # Color Rojo\n",
        "NEGRO = (0, 0, 0) # Color Negro\n",
        "\n",
        "TAM_TABLERO = (10, 10) # Tamaño tablero\n"
      ],
      "execution_count": 2,
      "outputs": []
    },
    {
      "cell_type": "markdown",
      "metadata": {
        "id": "PCcBj9Y19Fy_"
      },
      "source": [
        "## Numba"
      ]
    },
    {
      "cell_type": "code",
      "metadata": {
        "id": "avyJ_j3G9FOD"
      },
      "source": [
        "from numba import jit, set_num_threads\n",
        "\n"
      ],
      "execution_count": 3,
      "outputs": []
    },
    {
      "cell_type": "markdown",
      "metadata": {
        "id": "6eFxUCeL1hQh"
      },
      "source": [
        "## Funciones"
      ]
    },
    {
      "cell_type": "code",
      "metadata": {
        "id": "mnbm3pnt1hQh"
      },
      "source": [
        "'''\n",
        "Definición: Se genera una matriz que representará el tablero de juego\n",
        "Entradas: El tamaño del tablero (matriz)\n",
        "Salidas: El tablero terminado y relleno (matriz inicializada)\n",
        "'''\n",
        "def generar_tablero(TAM_TABLERO):\n",
        "    tablero = np.zeros(TAM_TABLERO) # Se hace el tablero entero de 0\n",
        "    \n",
        "    # Se rellena de 1 la mitad\n",
        "    for i in range(TAM_TABLERO[0]//2):\n",
        "        for j in range(TAM_TABLERO[1]):\n",
        "            tablero[i][j] = 1\n",
        "\n",
        "    return tablero # Se devuelve tablero\n",
        "\n",
        "\n",
        "'''\n",
        "Definición: Función que permite ver el tablero para conocer su funcionamiento\n",
        "Entradas: Tablero\n",
        "Salidas: Visualización del tablero\n",
        "'''\n",
        "def ver_tablero(tablero):\n",
        "    plt.figure(figsize=(10,10)) # Tamaño figura\n",
        "    plt.title(\"Game of War\",size=28) # Título de la tabla\n",
        "    colormap = colors.ListedColormap([\"firebrick\",\"cornflowerblue\"]) # Colores\n",
        "    plt.imshow(tablero, cmap=colormap) # Se elije que ver\n",
        "    plt.show() # Ver tabla\n",
        "\n",
        "\n",
        "'''\n",
        "Definición: Función que encuentra el conflicto y da paso a la función conflicto\n",
        "Entradas: tablero\n",
        "Salidas: lugar de conflicto, si no hay conflicto devuelve fin\n",
        "'''\n",
        "def detectar_conflicto(tablero):\n",
        "    aux = tablero\n",
        "\n",
        "    for i in range(TAM_TABLERO[0]-1):\n",
        "        for j in range(TAM_TABLERO[1]-1):\n",
        "            # Si encuentra un enemigo a su alrededor (arriba, abajo, derecha e izquierda)\n",
        "            if(tablero[i][j] != tablero[i+1][j] or tablero[i][j] != tablero[i][j-1] or tablero[i][j] != tablero[i][j+1] or tablero[i][j] != tablero[i-1][j]):\n",
        "                # Si hay un conflicto se realiza\n",
        "                aux = conflicto(tablero, i, j)\n",
        "    \n",
        "    return aux\n",
        "\n",
        "\n",
        "'''\n",
        "Definición: Función que calcula quien gana y quien pierde\n",
        "Entradas: lugar de conflicto\n",
        "Salidas: perdedor\n",
        "'''\n",
        "def calculo_ganador(tablero, i, j):\n",
        "    perdedor = (0, 0)\n",
        "    # contador de enemigos colindantes\n",
        "    enemigo = 0\n",
        "    \n",
        "    # calculo probabilidades\n",
        "    if(tablero[i][j] != tablero[i+1][j]):\n",
        "        # si se suma 1 es que i+1 es enemigo\n",
        "        enemigo = enemigo + 1\n",
        "    if(tablero[i][j] != tablero[i][j-1]):\n",
        "        # si se suma 10 es que j-1 es enemigo\n",
        "        enemigo = enemigo + 10\n",
        "    if(tablero[i][j] != tablero[i][j+1]):\n",
        "        # si se suma 100 es que j+1 es enemigo\n",
        "        enemigo = enemigo + 100\n",
        "    if(tablero[i][j] != tablero[i-1][j]):\n",
        "        # si se suma 1000 es que i-1 es enemigo\n",
        "        enemigo = enemigo + 1000\n",
        "    \n",
        "    # si solo hay un enemigo, 50%\n",
        "    if(enemigo == 1 or enemigo == 10 or enemigo == 100 or enemigo == 1000):\n",
        "        # valor random entre 0 y 1\n",
        "        valor = random.randint(0, 1)\n",
        "        # 0 pierde [i, j]\n",
        "        if(valor == 0):\n",
        "            perdedor = (i, j)\n",
        "        # 1 pierde el cuadrado enemigo a [i, j]\n",
        "        else:\n",
        "            if(enemigo == 1):\n",
        "                perdedor = (i+1, j)\n",
        "            elif(enemigo == 10):\n",
        "                perdedor = (i, j-1)\n",
        "            elif(enemigo == 100):\n",
        "                perdedor = (i, j+1)\n",
        "            else:\n",
        "                perdedor = (i-1, j)\n",
        "\n",
        "    # si hay dos enemigos, 66% contra 33%\n",
        "    elif(enemigo == 11 or enemigo == 101 or enemigo == 1001 or enemigo == 110 or enemigo == 1010 or enemigo == 1100):\n",
        "        #valor random entre 1 y 17\n",
        "        valor = random.randint(1, 17)\n",
        "        # valor >= 7 pierde [i, j]\n",
        "        if(valor >= 7):\n",
        "            perdedor = (i, j)\n",
        "        # 4 >= valor <= 6 pierde el cuadrado enemigo a [i, j]\n",
        "        elif(valor >= 4 and valor <= 6):\n",
        "            if(enemigo == 11):\n",
        "                perdedor = (i+1, j)\n",
        "            elif(enemigo == 101):\n",
        "                perdedor = (i+1, j)\n",
        "            elif(enemigo == 1001):\n",
        "                perdedor = (i+1, j)\n",
        "            elif(enemigo == 110):\n",
        "                perdedor = (i, j-1)\n",
        "            elif(enemigo == 1010):\n",
        "                perdedor = (i, j-1)\n",
        "            else:\n",
        "                perdedor = (i, j+1)\n",
        "        # valor <= 4 pierde el cuadrado enemigo a [i, j]\n",
        "        else:\n",
        "            if(enemigo == 11):\n",
        "                perdedor = (i, j-1)\n",
        "            elif(enemigo == 101):\n",
        "                perdedor = (i, j+1)\n",
        "            elif(enemigo == 1001):\n",
        "                perdedor = (i-1, j)\n",
        "            elif(enemigo == 110):\n",
        "                perdedor = (i, j+1)\n",
        "            elif(enemigo == 1010):\n",
        "                perdedor = (i-1, j)\n",
        "            else:\n",
        "                perdedor = (i-1, j)\n",
        "\n",
        "    # si hay tres enemigos, 75% contra 25%\n",
        "    elif(enemigo == 111 or enemigo == 1011 or enemigo == 1101 or enemigo == 1110):\n",
        "        #valor random entre 1 y 48\n",
        "        valor = random.randint(0, 48)\n",
        "        # valor >= 13 pierde [i, j]\n",
        "        if(valor >= 13):\n",
        "            perdedor = (i, j)\n",
        "        # 9 >= valor <= 12 pierde el cuadrado enemigo a [i, j]\n",
        "        elif(valor >= 9 and valor <= 12):\n",
        "            if(enemigo == 111):\n",
        "                perdedor = (i+1, j)\n",
        "            if(enemigo == 1011):\n",
        "                perdedor = (i+1, j)\n",
        "            if(enemigo == 1101):\n",
        "                perdedor = (i+1, j)\n",
        "            else:\n",
        "                perdedor = (i, j+1)\n",
        "        # 5 >= valor <= 8 pierde el cuadrado enemigo a [i, j]\n",
        "        elif(valor >= 5 and valor <= 8):\n",
        "            if(enemigo == 111):\n",
        "                perdedor = (i, j+1)\n",
        "            if(enemigo == 1011):\n",
        "                perdedor = (i, j+1)\n",
        "            if(enemigo == 1101):\n",
        "                perdedor = (i, j-1)\n",
        "            else:\n",
        "                perdedor = (i, j-1)\n",
        "        # 1 >= valor <= 4 pierde el cuadrado enemigo a [i, j]\n",
        "        elif(valor >= 1 and valor <= 4):\n",
        "            if(enemigo == 111):\n",
        "                perdedor = (i, j-1)\n",
        "            if(enemigo == 1011):\n",
        "                perdedor = (i-1, j)\n",
        "            if(enemigo == 1101):\n",
        "                perdedor = (i-1, j)\n",
        "            else:\n",
        "                perdedor = (i-1, j)\n",
        "\n",
        "    # si hay cuatro enemigos, 80% contra 20%\n",
        "    else:\n",
        "        #valor random entre 1 y 48\n",
        "        valor = random.randint(0, 48)\n",
        "        # valor >= 13 pierde [i, j]\n",
        "        if(valor >= 13):\n",
        "            perdedor = (i, j)\n",
        "        # 10 >= valor <= 12 pierde el cuadrado enemigo a [i, j]\n",
        "        elif(valor >= 10 and valor <= 12):\n",
        "            perdedor = (i+1, j)\n",
        "        # 10 >= valor <= 12 pierde el cuadrado enemigo a [i, j]\n",
        "        elif(valor >= 10 and valor <= 12):\n",
        "            perdedor = (i, j+1)\n",
        "        # 10 >= valor <= 12 pierde el cuadrado enemigo a [i, j]\n",
        "        elif(valor >= 10 and valor <= 12):\n",
        "            perdedor = (i, j-1)\n",
        "        else:\n",
        "            perdedor = (i-1, j)\n",
        "\n",
        "    return perdedor\n",
        "\n",
        "\n",
        "'''\n",
        "Definición: Función que realiza el conflicto mediante probabilidades\n",
        "Entradas: lugar de conflicto\n",
        "Salidas: \n",
        "'''\n",
        "def conflicto(tablero, i, j):\n",
        "    # Se actualiza el tablero tras un conflicto\n",
        "    perd = calculo_ganador(tablero, i, j)\n",
        "    new_tab = cambio_color(tablero, perd)\n",
        "    \n",
        "    return new_tab\n",
        "\n",
        "\n",
        "'''\n",
        "Definición: Función que cambia de color al perdedor\n",
        "Entradas: Tablero y perdedor\n",
        "Salidas: Tablero actualizado\n",
        "'''\n",
        "def cambio_color(tablero, perdedor):\n",
        "    # Se cambia el color de una posición concreta\n",
        "\n",
        "    if (tablero[perdedor[0], perdedor[1]] == 1):\n",
        "        tablero[perdedor[0], perdedor[1]] = 0\n",
        "    else:\n",
        "        tablero[perdedor[0], perdedor[1]] = 1\n",
        "    \n",
        "    return tablero\n",
        "\n",
        "\n",
        "'''\n",
        "Definición: Función que comprueba si toda la matriz es de un color\n",
        "Entradas: Lugar de conflicto\n",
        "Salidas: condición de terminación\n",
        "'''\n",
        "def comprobar_final(tablero):\n",
        "    # Se comprueba si no hay más conflictos en el tablero\n",
        "    for i in range(TAM_TABLERO[0]-1):\n",
        "        for j in range(TAM_TABLERO[1]-1):\n",
        "            if(tablero[i][j] != tablero[i+1][j] or tablero[i][j] != tablero[i][j-1] or tablero[i][j] != tablero[i][j+1] or tablero[i][j] != tablero[i-1][j]):\n",
        "                return False\n",
        "            \n",
        "    return True\n",
        "\n",
        "\n",
        "'''\n",
        "Definición: Función que comprueba que equipo ha ganado\n",
        "Entradas: Tablero\n",
        "Salidas: 1 o 0\n",
        "'''\n",
        "def quien_gana(tablero):\n",
        "    aux = np.zeros(TAM_TABLERO)\n",
        "\n",
        "    # Se comrueba quien gana o pierde\n",
        "    if ((aux + tablero).any()):\n",
        "        return 0\n",
        "    else:\n",
        "        return 1\n",
        "\n",
        "\n",
        "'''\n",
        "Definición: Función que contiene todo el programa principal\n",
        "Entradas: -\n",
        "Salidas: Gandor de la batalla\n",
        "'''\n",
        "def batalla(TAM_TABLERO):\n",
        "    tam_t = TAM_TABLERO\n",
        "    tablero = generar_tablero(tam_t) # Se genera tablero\n",
        "    terminado = False # Se inicializa la condición de terminación\n",
        "    ver = 0 # Variable para elegir cada cuanto ver el tablero\n",
        "\n",
        "    while (terminado == False):\n",
        "        tablero = detectar_conflicto(tablero) # Actualización del tablero\n",
        "        \n",
        "        # Si han pasado 10 iteracicones\n",
        "        if ver == 10:\n",
        "            # ver_tablero(tablero) # Visualización del tablero\n",
        "            ver = 0 # Se resetea\n",
        "        else:\n",
        "            ver = ver + 1 # Se suma una vuelta\n",
        "\n",
        "        terminado = comprobar_final(tablero) # Se comprueba si se finaliza\n",
        "\n",
        "    return  quien_gana(tablero)# Devolución de ganador\n",
        "\n",
        "'''\n",
        "Definición: Calcular el tiempo de una batalla\n",
        "Entradas: tamaño del tablero \n",
        "Salidas: tiempo de ejecución\n",
        "'''\n",
        "def calcular_tiempo_ejecucion(tam):\n",
        "    r = 0\n",
        "    inicio = time.time() # Se inicializa el tiempo\n",
        "    r = batalla(tam) # Ocurre la batalla\n",
        "    fin = time.time() # Sefinaliza el tiempo\n",
        "\n",
        "    return fin-inicio # Se calcula la didferencia de tiempo"
      ],
      "execution_count": 4,
      "outputs": []
    },
    {
      "cell_type": "markdown",
      "metadata": {
        "id": "91OdIsNg1hQm"
      },
      "source": [
        "# Cálculo de tiempos y gráficas"
      ]
    },
    {
      "cell_type": "code",
      "metadata": {
        "id": "wRr811hw1hQn",
        "outputId": "90945fb3-3ba1-462b-eddd-2fb171ea0481",
        "colab": {
          "base_uri": "https://localhost:8080/",
          "height": 523
        }
      },
      "source": [
        "set_num_threads(1)\n",
        "# 10 batallas de tablero 10x10, 50x50, 100x100 y 200x200\n",
        "t_1 = 0\n",
        "t_2 = 0\n",
        "t_3 = 0\n",
        "t_4 = 0\n",
        "\n",
        "for i in range(0, 10):\n",
        "  print(i)\n",
        "  # Se ejecuta con tablero 10x10\n",
        "  TAM_TABLERO = (10, 10)\n",
        "  t_1 = t_1 + calcular_tiempo_ejecucion((10, 10))\n",
        "\n",
        "  # Se ejeucta con tablero 50x50\n",
        "  TAM_TABLERO = (20, 20)\n",
        "  t_2 = t_2 + calcular_tiempo_ejecucion((20, 20))\n",
        "\n",
        "  # Se ejecuta con tablero 100x100\n",
        "  TAM_TABLERO = (30, 30)\n",
        "  t_3 = t_3 + calcular_tiempo_ejecucion((30, 30))\n",
        "\n",
        "  # Se ejecuta con tablero 200x200\n",
        "  TAM_TABLERO = (40, 40)\n",
        "  t_4 = t_4 + calcular_tiempo_ejecucion((40, 40))\n",
        "\n",
        "# Visualización de la evolución de los tiempos\n",
        "x = [10, 20, 30, 40]\n",
        "y = [t_1/10, t_2/10, t_3/10, t_4/10]\n",
        "\n",
        "plt.plot(x, y)\n",
        "plt.xlabel('Tamaños tablero')\n",
        "plt.ylabel('Tiempo')\n",
        "plt.title('Tiempos de ejecución')\n",
        "plt.grid()\n",
        "plt.show()\n",
        "\n"
      ],
      "execution_count": 5,
      "outputs": [
        {
          "output_type": "stream",
          "name": "stderr",
          "text": [
            "/usr/local/lib/python3.7/dist-packages/numba/np/ufunc/parallel.py:363: NumbaWarning: The TBB threading layer requires TBB version 2019.5 or later i.e., TBB_INTERFACE_VERSION >= 11005. Found TBB_INTERFACE_VERSION = 9107. The TBB threading layer is disabled.\n",
            "  warnings.warn(problem)\n"
          ]
        },
        {
          "output_type": "stream",
          "name": "stdout",
          "text": [
            "0\n",
            "1\n",
            "2\n",
            "3\n",
            "4\n",
            "5\n",
            "6\n",
            "7\n",
            "8\n",
            "9\n"
          ]
        },
        {
          "output_type": "display_data",
          "data": {
            "image/png": "[encoded data removed]",
            "text/plain": [
              "<Figure size 432x288 with 1 Axes>"
            ]
          },
          "metadata": {
            "needs_background": "light"
          }
        }
      ]
    },
    {
      "cell_type": "markdown",
      "metadata": {
        "id": "weCBM4rL_MtZ"
      },
      "source": [
        "# Otro"
      ]
    },
    {
      "cell_type": "code",
      "metadata": {
        "id": "Tuwk9Z1k-tTT"
      },
      "source": [
        "'''\n",
        "Definición: Se genera una matriz que representará el tablero de juego\n",
        "Entradas: El tamaño del tablero (matriz)\n",
        "Salidas: El tablero terminado y relleno (matriz inicializada)\n",
        "'''\n",
        "def generar_tablero(TAM_TABLERO):\n",
        "    tablero = np.zeros(TAM_TABLERO) # Se hace el tablero entero de 0\n",
        "    \n",
        "    # Se rellena de 1 la mitad\n",
        "    for i in range(TAM_TABLERO[0]//2):\n",
        "        for j in range(TAM_TABLERO[1]):\n",
        "            tablero[i][j] = 1\n",
        "\n",
        "    return tablero # Se devuelve tablero\n",
        "\n",
        "\n",
        "'''\n",
        "Definición: Función que permite ver el tablero para conocer su funcionamiento\n",
        "Entradas: Tablero\n",
        "Salidas: Visualización del tablero\n",
        "'''\n",
        "def ver_tablero(tablero):\n",
        "    plt.figure(figsize=(10,10)) # Tamaño figura\n",
        "    plt.title(\"Game of War\",size=28) # Título de la tabla\n",
        "    colormap = colors.ListedColormap([\"firebrick\",\"cornflowerblue\"]) # Colores\n",
        "    plt.imshow(tablero, cmap=colormap) # Se elije que ver\n",
        "    plt.show() # Ver tabla\n",
        "\n",
        "\n",
        "'''\n",
        "Definición: Función que encuentra el conflicto y da paso a la función conflicto\n",
        "Entradas: tablero\n",
        "Salidas: lugar de conflicto, si no hay conflicto devuelve fin\n",
        "'''\n",
        "def detectar_conflicto(tablero):\n",
        "    aux = tablero\n",
        "\n",
        "    for i in range(TAM_TABLERO[0]-1):\n",
        "        for j in range(TAM_TABLERO[1]-1):\n",
        "            # Si encuentra un enemigo a su alrededor (arriba, abajo, derecha e izquierda)\n",
        "            if(tablero[i][j] != tablero[i+1][j] or tablero[i][j] != tablero[i][j-1] or tablero[i][j] != tablero[i][j+1] or tablero[i][j] != tablero[i-1][j]):\n",
        "                # Si hay un conflicto se realiza\n",
        "                aux = conflicto(tablero, i, j)\n",
        "    \n",
        "    return aux\n",
        "\n",
        "\n",
        "'''\n",
        "Definición: Función que calcula quien gana y quien pierde\n",
        "Entradas: lugar de conflicto\n",
        "Salidas: perdedor\n",
        "'''\n",
        "@jit(nopython=True)\n",
        "def calculo_ganador(tablero, i, j):\n",
        "    perdedor = (0, 0)\n",
        "    # contador de enemigos colindantes\n",
        "    enemigo = 0\n",
        "    \n",
        "    # calculo probabilidades\n",
        "    if(tablero[i][j] != tablero[i+1][j]):\n",
        "        # si se suma 1 es que i+1 es enemigo\n",
        "        enemigo = enemigo + 1\n",
        "    if(tablero[i][j] != tablero[i][j-1]):\n",
        "        # si se suma 10 es que j-1 es enemigo\n",
        "        enemigo = enemigo + 10\n",
        "    if(tablero[i][j] != tablero[i][j+1]):\n",
        "        # si se suma 100 es que j+1 es enemigo\n",
        "        enemigo = enemigo + 100\n",
        "    if(tablero[i][j] != tablero[i-1][j]):\n",
        "        # si se suma 1000 es que i-1 es enemigo\n",
        "        enemigo = enemigo + 1000\n",
        "    \n",
        "    # si solo hay un enemigo, 50%\n",
        "    if(enemigo == 1 or enemigo == 10 or enemigo == 100 or enemigo == 1000):\n",
        "        # valor random entre 0 y 1\n",
        "        valor = random.randint(0, 1)\n",
        "        # 0 pierde [i, j]\n",
        "        if(valor == 0):\n",
        "            perdedor = (i, j)\n",
        "        # 1 pierde el cuadrado enemigo a [i, j]\n",
        "        else:\n",
        "            if(enemigo == 1):\n",
        "                perdedor = (i+1, j)\n",
        "            elif(enemigo == 10):\n",
        "                perdedor = (i, j-1)\n",
        "            elif(enemigo == 100):\n",
        "                perdedor = (i, j+1)\n",
        "            else:\n",
        "                perdedor = (i-1, j)\n",
        "\n",
        "    # si hay dos enemigos, 66% contra 33%\n",
        "    elif(enemigo == 11 or enemigo == 101 or enemigo == 1001 or enemigo == 110 or enemigo == 1010 or enemigo == 1100):\n",
        "        #valor random entre 1 y 17\n",
        "        valor = random.randint(1, 17)\n",
        "        # valor >= 7 pierde [i, j]\n",
        "        if(valor >= 7):\n",
        "            perdedor = (i, j)\n",
        "        # 4 >= valor <= 6 pierde el cuadrado enemigo a [i, j]\n",
        "        elif(valor >= 4 and valor <= 6):\n",
        "            if(enemigo == 11):\n",
        "                perdedor = (i+1, j)\n",
        "            elif(enemigo == 101):\n",
        "                perdedor = (i+1, j)\n",
        "            elif(enemigo == 1001):\n",
        "                perdedor = (i+1, j)\n",
        "            elif(enemigo == 110):\n",
        "                perdedor = (i, j-1)\n",
        "            elif(enemigo == 1010):\n",
        "                perdedor = (i, j-1)\n",
        "            else:\n",
        "                perdedor = (i, j+1)\n",
        "        # valor <= 4 pierde el cuadrado enemigo a [i, j]\n",
        "        else:\n",
        "            if(enemigo == 11):\n",
        "                perdedor = (i, j-1)\n",
        "            elif(enemigo == 101):\n",
        "                perdedor = (i, j+1)\n",
        "            elif(enemigo == 1001):\n",
        "                perdedor = (i-1, j)\n",
        "            elif(enemigo == 110):\n",
        "                perdedor = (i, j+1)\n",
        "            elif(enemigo == 1010):\n",
        "                perdedor = (i-1, j)\n",
        "            else:\n",
        "                perdedor = (i-1, j)\n",
        "\n",
        "    # si hay tres enemigos, 75% contra 25%\n",
        "    elif(enemigo == 111 or enemigo == 1011 or enemigo == 1101 or enemigo == 1110):\n",
        "        #valor random entre 1 y 48\n",
        "        valor = random.randint(0, 48)\n",
        "        # valor >= 13 pierde [i, j]\n",
        "        if(valor >= 13):\n",
        "            perdedor = (i, j)\n",
        "        # 9 >= valor <= 12 pierde el cuadrado enemigo a [i, j]\n",
        "        elif(valor >= 9 and valor <= 12):\n",
        "            if(enemigo == 111):\n",
        "                perdedor = (i+1, j)\n",
        "            if(enemigo == 1011):\n",
        "                perdedor = (i+1, j)\n",
        "            if(enemigo == 1101):\n",
        "                perdedor = (i+1, j)\n",
        "            else:\n",
        "                perdedor = (i, j+1)\n",
        "        # 5 >= valor <= 8 pierde el cuadrado enemigo a [i, j]\n",
        "        elif(valor >= 5 and valor <= 8):\n",
        "            if(enemigo == 111):\n",
        "                perdedor = (i, j+1)\n",
        "            if(enemigo == 1011):\n",
        "                perdedor = (i, j+1)\n",
        "            if(enemigo == 1101):\n",
        "                perdedor = (i, j-1)\n",
        "            else:\n",
        "                perdedor = (i, j-1)\n",
        "        # 1 >= valor <= 4 pierde el cuadrado enemigo a [i, j]\n",
        "        elif(valor >= 1 and valor <= 4):\n",
        "            if(enemigo == 111):\n",
        "                perdedor = (i, j-1)\n",
        "            if(enemigo == 1011):\n",
        "                perdedor = (i-1, j)\n",
        "            if(enemigo == 1101):\n",
        "                perdedor = (i-1, j)\n",
        "            else:\n",
        "                perdedor = (i-1, j)\n",
        "\n",
        "    # si hay cuatro enemigos, 80% contra 20%\n",
        "    else:\n",
        "        #valor random entre 1 y 48\n",
        "        valor = random.randint(0, 48)\n",
        "        # valor >= 13 pierde [i, j]\n",
        "        if(valor >= 13):\n",
        "            perdedor = (i, j)\n",
        "        # 10 >= valor <= 12 pierde el cuadrado enemigo a [i, j]\n",
        "        elif(valor >= 10 and valor <= 12):\n",
        "            perdedor = (i+1, j)\n",
        "        # 10 >= valor <= 12 pierde el cuadrado enemigo a [i, j]\n",
        "        elif(valor >= 10 and valor <= 12):\n",
        "            perdedor = (i, j+1)\n",
        "        # 10 >= valor <= 12 pierde el cuadrado enemigo a [i, j]\n",
        "        elif(valor >= 10 and valor <= 12):\n",
        "            perdedor = (i, j-1)\n",
        "        else:\n",
        "            perdedor = (i-1, j)\n",
        "\n",
        "    return perdedor\n",
        "\n",
        "\n",
        "'''\n",
        "Definición: Función que realiza el conflicto mediante probabilidades\n",
        "Entradas: lugar de conflicto\n",
        "Salidas: \n",
        "'''\n",
        "def conflicto(tablero, i, j):\n",
        "    # Se actualiza el tablero tras un conflicto\n",
        "    perd = calculo_ganador(tablero, i, j)\n",
        "    new_tab = cambio_color(tablero, perd)\n",
        "    \n",
        "    return new_tab\n",
        "\n",
        "\n",
        "'''\n",
        "Definición: Función que cambia de color al perdedor\n",
        "Entradas: Tablero y perdedor\n",
        "Salidas: Tablero actualizado\n",
        "'''\n",
        "def cambio_color(tablero, perdedor):\n",
        "    # Se cambia el color de una posición concreta\n",
        "\n",
        "    if (tablero[perdedor[0], perdedor[1]] == 1):\n",
        "        tablero[perdedor[0], perdedor[1]] = 0\n",
        "    else:\n",
        "        tablero[perdedor[0], perdedor[1]] = 1\n",
        "    \n",
        "    return tablero\n",
        "\n",
        "\n",
        "'''\n",
        "Definición: Función que comprueba si toda la matriz es de un color\n",
        "Entradas: Lugar de conflicto\n",
        "Salidas: condición de terminación\n",
        "'''\n",
        "def comprobar_final(tablero):\n",
        "    # Se comprueba si no hay más conflictos en el tablero\n",
        "    for i in range(TAM_TABLERO[0]-1):\n",
        "        for j in range(TAM_TABLERO[1]-1):\n",
        "            if(tablero[i][j] != tablero[i+1][j] or tablero[i][j] != tablero[i][j-1] or tablero[i][j] != tablero[i][j+1] or tablero[i][j] != tablero[i-1][j]):\n",
        "                return False\n",
        "            \n",
        "    return True\n",
        "\n",
        "\n",
        "'''\n",
        "Definición: Función que comprueba que equipo ha ganado\n",
        "Entradas: Tablero\n",
        "Salidas: 1 o 0\n",
        "'''\n",
        "def quien_gana(tablero):\n",
        "    aux = np.zeros(TAM_TABLERO)\n",
        "\n",
        "    # Se comrueba quien gana o pierde\n",
        "    if ((aux + tablero).any()):\n",
        "        return 0\n",
        "    else:\n",
        "        return 1\n",
        "\n",
        "\n",
        "'''\n",
        "Definición: Función que contiene todo el programa principal\n",
        "Entradas: -\n",
        "Salidas: Gandor de la batalla\n",
        "'''\n",
        "def batalla(TAM_TABLERO):\n",
        "    tam_t = TAM_TABLERO\n",
        "    tablero = generar_tablero(tam_t) # Se genera tablero\n",
        "    terminado = False # Se inicializa la condición de terminación\n",
        "    ver = 0 # Variable para elegir cada cuanto ver el tablero\n",
        "    xcv = 0\n",
        "\n",
        "    while (terminado == False):\n",
        "        xcv += 1\n",
        "        tablero = detectar_conflicto(tablero) # Actualización del tablero\n",
        "        \n",
        "        # Si han pasado 10 iteracicones\n",
        "        if ver == 10:\n",
        "            # ver_tablero(tablero) # Visualización del tablero\n",
        "            ver = 0 # Se resetea\n",
        "        else:\n",
        "            ver = ver + 1 # Se suma una vuelta\n",
        "\n",
        "        terminado = comprobar_final(tablero) # Se comprueba si se finaliza\n",
        "        # print('kk' + str(xcv))\n",
        "\n",
        "    return quien_gana(tablero) # Devolución de ganador\n",
        "\n",
        "'''\n",
        "Definición: Calcular el tiempo de una batalla\n",
        "Entradas: tamaño del tablero \n",
        "Salidas: tiempo de ejecución\n",
        "'''\n",
        "def calcular_tiempo_ejecucion(tam):\n",
        "    r = 0\n",
        "    inicio = time.time() # Se inicializa el tiempo\n",
        "    r = batalla(tam) # Ocurre la batalla\n",
        "    fin = time.time() # Sefinaliza el tiempo\n",
        "\n",
        "    return fin-inicio # Se calcula la didferencia de tiempo"
      ],
      "execution_count": 6,
      "outputs": []
    },
    {
      "cell_type": "markdown",
      "metadata": {
        "id": "FyIxVJgOlQQh"
      },
      "source": [
        "# Ver"
      ]
    },
    {
      "cell_type": "code",
      "metadata": {
        "id": "wC0MuOOwsNJs",
        "outputId": "066fbec5-b0cd-4cc5-99df-05808e246df8",
        "colab": {
          "base_uri": "https://localhost:8080/",
          "height": 469
        }
      },
      "source": [
        "set_num_threads(1)\n",
        "# 10 batallas de tablero 10x10, 50x50, 100x100 y 200x200\n",
        "t_1 = 0\n",
        "t_2 = 0\n",
        "t_3 = 0\n",
        "t_4 = 0\n",
        "\n",
        "for i in range(0, 10):\n",
        "  print(i)\n",
        "  # Se ejecuta con tablero 10x10\n",
        "  TAM_TABLERO = (10, 10)\n",
        "  t_1 = t_1 + calcular_tiempo_ejecucion((10, 10))\n",
        "\n",
        "  # Se ejeucta con tablero 50x50\n",
        "  TAM_TABLERO = (20, 20)\n",
        "  t_2 = t_2 + calcular_tiempo_ejecucion((20, 20))\n",
        "\n",
        "  # Se ejecuta con tablero 100x100\n",
        "  TAM_TABLERO = (30, 30)\n",
        "  t_3 = t_3 + calcular_tiempo_ejecucion((30, 30))\n",
        "\n",
        "  # Se ejecuta con tablero 200x200\n",
        "  TAM_TABLERO = (40, 40)\n",
        "  t_4 = t_4 + calcular_tiempo_ejecucion((40, 40))\n",
        "\n",
        "# Visualización de la evolución de los tiempos\n",
        "# Visualización de la evolución de los tiempos\n",
        "x = [10, 20, 30, 40]\n",
        "y = [t_1/10, t_2/10, t_3/10, t_4/10]\n",
        "\n",
        "\n",
        "plt.plot(x, y)\n",
        "plt.xlabel('Tamaños tablero')\n",
        "plt.ylabel('Tiempo')\n",
        "plt.title('Tiempos de ejecución')\n",
        "plt.grid()\n",
        "plt.show()\n",
        "\n"
      ],
      "execution_count": 12,
      "outputs": [
        {
          "output_type": "stream",
          "name": "stdout",
          "text": [
            "0\n",
            "1\n",
            "2\n",
            "3\n",
            "4\n",
            "5\n",
            "6\n",
            "7\n",
            "8\n",
            "9\n"
          ]
        },
        {
          "output_type": "display_data",
          "data": {
            "image/png": "[encoded data removed]",
            "text/plain": [
              "<Figure size 432x288 with 1 Axes>"
            ]
          },
          "metadata": {
            "needs_background": "light"
          }
        }
      ]
    },
    {
      "cell_type": "code",
      "metadata": {
        "id": "J0OCegWP97lF",
        "outputId": "62d2b9ad-e76e-491a-ace2-20ffaf962294",
        "colab": {
          "base_uri": "https://localhost:8080/",
          "height": 469
        }
      },
      "source": [
        "set_num_threads(2)\n",
        "# 10 batallas de tablero 10x10, 50x50, 100x100 y 200x200\n",
        "t_1 = 0\n",
        "t_2 = 0\n",
        "t_3 = 0\n",
        "t_4 = 0\n",
        "\n",
        "for i in range(0, 10):\n",
        "  print(i)\n",
        "  # Se ejecuta con tablero 10x10\n",
        "  TAM_TABLERO = (10, 10)\n",
        "  t_1 = t_1 + calcular_tiempo_ejecucion((10, 10))\n",
        "\n",
        "  # Se ejeucta con tablero 50x50\n",
        "  TAM_TABLERO = (20, 20)\n",
        "  t_2 = t_2 + calcular_tiempo_ejecucion((20, 20))\n",
        "\n",
        "  # Se ejecuta con tablero 100x100\n",
        "  TAM_TABLERO = (30, 30)\n",
        "  t_3 = t_3 + calcular_tiempo_ejecucion((30, 30))\n",
        "\n",
        "  # Se ejecuta con tablero 200x200\n",
        "  TAM_TABLERO = (40, 40)\n",
        "  t_4 = t_4 + calcular_tiempo_ejecucion((40, 40))\n",
        "\n",
        "# Visualización de la evolución de los tiempos\n",
        "x = [10, 20, 30, 40]\n",
        "y = [t_1/10, t_2/10, t_3/10, t_4/10]\n",
        "\n",
        "plt.plot(x, y)\n",
        "plt.xlabel('Tamaños tablero')\n",
        "plt.ylabel('Tiempo')\n",
        "plt.title('Tiempos de ejecución')\n",
        "plt.grid()\n",
        "plt.show()"
      ],
      "execution_count": 11,
      "outputs": [
        {
          "output_type": "stream",
          "name": "stdout",
          "text": [
            "0\n",
            "1\n",
            "2\n",
            "3\n",
            "4\n",
            "5\n",
            "6\n",
            "7\n",
            "8\n",
            "9\n"
          ]
        },
        {
          "output_type": "display_data",
          "data": {
            "image/png": "[encoded data removed]",
            "text/plain": [
              "<Figure size 432x288 with 1 Axes>"
            ]
          },
          "metadata": {
            "needs_background": "light"
          }
        }
      ]
    },
    {
      "cell_type": "code",
      "metadata": {
        "id": "obO9fWcBk1vH",
        "outputId": "cce395bb-128e-4251-fcee-6b9d5da12c8a",
        "colab": {
          "base_uri": "https://localhost:8080/",
          "height": 295
        }
      },
      "source": [
        "x = [0, 1, 2]\n",
        "y = [8, 2.5, 1.4]\n",
        "plt.plot(x, y)\n",
        "plt.xlabel('Procesadores')\n",
        "plt.ylabel('Tiempo')\n",
        "plt.title('Tiempos de ejecución')\n",
        "plt.grid()\n",
        "plt.show()"
      ],
      "execution_count": 9,
      "outputs": [
        {
          "output_type": "display_data",
          "data": {
            "image/png": "[encoded data removed]",
            "text/plain": [
              "<Figure size 432x288 with 1 Axes>"
            ]
          },
          "metadata": {
            "needs_background": "light"
          }
        }
      ]
    },
    {
      "cell_type": "code",
      "metadata": {
        "id": "ty1YV5Tpnv7m",
        "outputId": "6dc1fa62-a890-4a49-8228-2423af1b729c",
        "colab": {
          "base_uri": "https://localhost:8080/",
          "height": 281
        }
      },
      "source": [
        "x = [10, 20, 30, 40]\n",
        "y = [0, 0.25/20, 2/30, 4/40]\n",
        "\n",
        "x1 = [10, 20, 30, 40]\n",
        "y1 = [0, 0.5/20, 3/30, 8/40]\n",
        "\n",
        "plt.plot(x, y)\n",
        "plt.plot(x1, y1)\n",
        "plt.ylabel('Speed up')\n",
        "plt.title('Tiempos de ejecución')\n",
        "plt.grid()\n",
        "plt.show()"
      ],
      "execution_count": 21,
      "outputs": [
        {
          "output_type": "display_data",
          "data": {
            "image/png": "[encoded data removed]",
            "text/plain": [
              "<Figure size 432x288 with 1 Axes>"
            ]
          },
          "metadata": {
            "needs_background": "light"
          }
        }
      ]
    },
    {
      "cell_type": "code",
      "metadata": {
        "id": "qrEj6II2wg8h",
        "outputId": "97ed90ae-8af2-4783-fa47-8e83ab6736c7",
        "colab": {
          "base_uri": "https://localhost:8080/",
          "height": 295
        }
      },
      "source": [
        "x = [10, 20, 30, 40]\n",
        "y = [0, 0.25, 2, 4.3]\n",
        "\n",
        "x1 = [10, 20, 30, 40]\n",
        "y1 = [0.01, 0.5, 3, 8]\n",
        "\n",
        "plt.plot(x, y)\n",
        "plt.plot(x1, y1)\n",
        "plt.xlabel('Procesadores')\n",
        "plt.ylabel('Tiempo')\n",
        "plt.title('Tiempos de ejecución')\n",
        "plt.grid()\n",
        "plt.show()"
      ],
      "execution_count": 17,
      "outputs": [
        {
          "output_type": "display_data",
          "data": {
            "image/png": "[encoded data removed]",
            "text/plain": [
              "<Figure size 432x288 with 1 Axes>"
            ]
          },
          "metadata": {
            "needs_background": "light"
          }
        }
      ]
    },
    {
      "cell_type": "code",
      "metadata": {
        "id": "IpviAr76qwj5",
        "outputId": "1dfe9355-1d51-4fac-ddd9-9e3712f0d834",
        "colab": {
          "base_uri": "https://localhost:8080/",
          "height": 295
        }
      },
      "source": [
        "x = [0, 1, 2]\n",
        "y = [8, 4.1, 4]\n",
        "\n",
        "plt.plot(x, y)\n",
        "plt.xlabel('Procesadores')\n",
        "plt.ylabel('Tiempo')\n",
        "plt.title('Tiempos de ejecución')\n",
        "plt.grid()\n",
        "plt.show()"
      ],
      "execution_count": 23,
      "outputs": [
        {
          "output_type": "display_data",
          "data": {
            "image/png": "[encoded data removed]",
            "text/plain": [
              "<Figure size 432x288 with 1 Axes>"
            ]
          },
          "metadata": {
            "needs_background": "light"
          }
        }
      ]
    },
    {
      "cell_type": "code",
      "metadata": {
        "id": "PyKtGyaM2i_i"
      },
      "source": [
        ""
      ],
      "execution_count": null,
      "outputs": []
    }
  ]
}