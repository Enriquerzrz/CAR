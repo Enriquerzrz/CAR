{
 "cells": [
  {
   "cell_type": "markdown",
   "metadata": {},
   "source": [
    "# GAME OF WAR\n"
   ]
  },
  {
   "cell_type": "markdown",
   "metadata": {},
   "source": [
    "## Librerías"
   ]
  },
  {
   "cell_type": "code",
   "execution_count": 9,
   "metadata": {},
   "outputs": [],
   "source": [
    "import pygame\n",
    "import numpy as np\n",
    "import time\n",
    "import sys\n",
    "from sys import exit"
   ]
  },
  {
   "cell_type": "markdown",
   "metadata": {},
   "source": [
    "## Variables globales\n"
   ]
  },
  {
   "cell_type": "code",
   "execution_count": 10,
   "metadata": {},
   "outputs": [],
   "source": [
    "AZUL = (27, 167, 249) # Color Azul\n",
    "ROJO = (237, 70, 70) # Color Rojo\n",
    "NEGRO = (0, 0, 0) # Color Negro\n",
    "\n",
    "TAM_CUADRADO = 20 # Tamaño cuadricula\n",
    "TAM_TABLERO = (910, 600) # Tamaño tablero\n",
    "TAM_PANTALLA = (925, 610)\n"
   ]
  },
  {
   "cell_type": "markdown",
   "metadata": {},
   "source": [
    "## Funciones"
   ]
  },
  {
   "cell_type": "code",
   "execution_count": 11,
   "metadata": {},
   "outputs": [
    {
     "data": {
      "text/plain": [
       "'\\nantes de game over = true, meter el buscar conflicto de buscar conflicto se llama a la funcion conflicto y \\npara cambiar el game over implementar el comprobar final para poder cambiar sin problema a true\\n'"
      ]
     },
     "execution_count": 11,
     "metadata": {},
     "output_type": "execute_result"
    }
   ],
   "source": [
    "'''\n",
    "Definición: Se genera una matriz que representará el tablero de juego\n",
    "Entradas: El tamaño del tablero (matriz)\n",
    "Salidas: El tablero terminado y relleno (matriz inicializada)\n",
    "'''\n",
    "def generar_tablero(TAM_TABLERO):\n",
    "    tablero = np.zeros(TAM_TABLERO) # Se hace el tablero entero de 0\n",
    "    \n",
    "    # Se rellena de 1 la mitad\n",
    "    for i in range(TAM_TABLERO[0]//2):\n",
    "        for j in range(TAM_TABLERO[1]):\n",
    "            tablero[i][j] = 1\n",
    "\n",
    "    return tablero\n",
    "\n",
    "'''\n",
    "Definición: Función que permite ver el tablero para conocer su funcionamiento\n",
    "Entradas: Tablero\n",
    "Salidas: Visualización del tablero\n",
    "'''\n",
    "def generar_tablero_visual(tablero):\n",
    "    pygame.init() # Se inicializa pygame\n",
    "    tamT = TAM_TABLERO # Se define tamaño tablero\n",
    "    tamP = TAM_PANTALLA # se define tamaño de pantalla\n",
    "    pantalla = pygame.display.set_mode(tamP) # Se define pantalla\n",
    "    pygame.display.set_caption(\"Game of War\") # Se define el titulo del tablero\n",
    "    \n",
    "    # Se define la condición del while\n",
    "    game_over = False\n",
    "\n",
    "    # Mientras no se termine de ver\n",
    "    while not game_over:\n",
    "        # Se inicializa la pantalla\n",
    "        pantalla.fill(NEGRO)\n",
    "\n",
    "        # Se recorre la i de la matriz de cuadrados\n",
    "        for i in range(1, tamT[0], TAM_CUADRADO + 1):\n",
    "            # Se recorre la j de la matriz de cuadrados\n",
    "            for j in range(1, tamT[1], TAM_CUADRADO + 1):\n",
    "                # Si es 0 pinta el cuadrado de Azul\n",
    "                if(tablero[i][j] == 0):\n",
    "                    pygame.draw.rect(pantalla, AZUL, [i, j, TAM_CUADRADO, TAM_CUADRADO], 0)\n",
    "\n",
    "                # Si es 1 pinta el cuadrado de Rojo\n",
    "                else:\n",
    "                    pygame.draw.rect(pantalla, ROJO, [i, j, TAM_CUADRADO, TAM_CUADRADO], 0)\n",
    "\n",
    "        pygame.display.flip() # Se muestra la pantalla\n",
    "        #time.sleep(5) # El tablero se muestra durante 3 segundos\n",
    "\n",
    "        #llamada a funcion detectar conflicto\n",
    "        detectar_conflicto(tablero)\n",
    "\n",
    "        #if comprobar final devuelve true, terminar\n",
    "        if(comprobar_final(tablero) == True):\n",
    "            game_over = True # Se da la condición de terminación\n",
    "\n",
    "    while True:\n",
    "        for event in pygame.event.get():\n",
    "            if event.type == pygame.QUIT:\n",
    "                pygame.quit()\n",
    "                exit()\n",
    "    #pygame.quit() # Se sale de pygame\n",
    "\n",
    "'''\n",
    "Definición: Función que encuentra el conflicto y da paso a la función conflicto\n",
    "Entradas: tablero\n",
    "Salidas: lugar de conflicto, si no hay conflicto devuelve fin\n",
    "'''\n",
    "def detectar_conflicto(tablero):\n",
    "    for i in range(TAM_TABLERO[0]//TAM_CUADRADO):\n",
    "        for j in range(TAM_TABLERO[1]//TAM_CUADRADO):\n",
    "            if(tablero[i][j] != tablero[i+1][j]):\n",
    "                print(\"i \", i, \"j \",j)\n",
    "                conflicto(tablero, i, j)\n",
    "\n",
    "'''\n",
    "Definición: Función que realiza el conflicto mediante probabilidades\n",
    "Entradas: lugar de conflicto\n",
    "Salidas: \n",
    "'''\n",
    "def conflicto(tablero, i, j):\n",
    "    tablero[i+1][j+1] = 1\n",
    "    return tablero[i][j]\n",
    "\n",
    "'''\n",
    "Definición: Función que comprueba si toda la matriz es de un color\n",
    "Entradas: lugar de conflicto\n",
    "Salidas: \n",
    "'''\n",
    "def comprobar_final(tablero):\n",
    "    for i in range(TAM_TABLERO[0]):\n",
    "        for j in range(TAM_TABLERO[1]):\n",
    "            if(tablero[i][j] != tablero [i+1][j]):\n",
    "                return False\n",
    "\n",
    "    return True\n",
    "\n",
    "    \n",
    "'''\n",
    "antes de game over = true, meter el buscar conflicto de buscar conflicto se llama a la funcion conflicto y \n",
    "para cambiar el game over implementar el comprobar final para poder cambiar sin problema a true\n",
    "'''"
   ]
  },
  {
   "cell_type": "code",
   "execution_count": 12,
   "metadata": {},
   "outputs": [
    {
     "ename": "SystemExit",
     "evalue": "",
     "output_type": "error",
     "traceback": [
      "An exception has occurred, use %tb to see the full traceback.\n",
      "\u001b[1;31mSystemExit\u001b[0m\n"
     ]
    }
   ],
   "source": [
    "generar_tablero_visual(generar_tablero(TAM_TABLERO))\n"
   ]
  },
  {
   "cell_type": "markdown",
   "metadata": {},
   "source": []
  }
 ],
 "metadata": {
  "interpreter": {
   "hash": "4eaf1be304415beee96765ae99c3f893cc8312c7f1196698e6029668e9aeb3e5"
  },
  "kernelspec": {
   "display_name": "Python 3.9.6 64-bit",
   "name": "python3"
  },
  "language_info": {
   "codemirror_mode": {
    "name": "ipython",
    "version": 3
   },
   "file_extension": ".py",
   "mimetype": "text/x-python",
   "name": "python",
   "nbconvert_exporter": "python",
   "pygments_lexer": "ipython3",
   "version": "3.9.6"
  },
  "orig_nbformat": 4
 },
 "nbformat": 4,
 "nbformat_minor": 2
}
