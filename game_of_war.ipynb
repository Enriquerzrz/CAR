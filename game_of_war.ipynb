{
 "cells": [
  {
   "cell_type": "markdown",
   "source": [
    "# GAME OF WAR\r\n"
   ],
   "metadata": {}
  },
  {
   "cell_type": "markdown",
   "source": [
    "## Librerías"
   ],
   "metadata": {}
  },
  {
   "cell_type": "code",
   "execution_count": 55,
   "source": [
    "import pygame\r\n",
    "import numpy as np\r\n",
    "import time"
   ],
   "outputs": [],
   "metadata": {}
  },
  {
   "cell_type": "markdown",
   "source": [
    "## Variables globales\r\n"
   ],
   "metadata": {}
  },
  {
   "cell_type": "code",
   "execution_count": 61,
   "source": [
    "AZUL = (0, 0, 255) # Color Azul\r\n",
    "ROJO = (255, 0, 0) # Color Rojo\r\n",
    "NEGRO = (0, 0, 0) # Color Negro\r\n",
    "\r\n",
    "TAM_CUADRADO = 15 # Tamaño cuadricula\r\n",
    "TAM_TABLERO = (600, 600) # Tamaño tablero"
   ],
   "outputs": [],
   "metadata": {}
  },
  {
   "cell_type": "markdown",
   "source": [
    "## Funciones"
   ],
   "metadata": {}
  },
  {
   "cell_type": "code",
   "execution_count": 62,
   "source": [
    "'''\r\n",
    "Definición: Se genera una matriz que representará el tablero de juego\r\n",
    "Entradas: El tamaño del tablero (matriz)\r\n",
    "Salidas: El tablero terminado y relleno (matriz inicializada)\r\n",
    "'''\r\n",
    "def generar_tablero(TAM_TABLERO):\r\n",
    "    tablero = np.zeros(TAM_TABLERO) # Se hace el tablero entero de 0\r\n",
    "    \r\n",
    "    # Se rellena de 1 la mitad\r\n",
    "    for i in range((TAM_TABLERO[0]//2)):\r\n",
    "        for j in range((TAM_TABLERO[1])):\r\n",
    "            tablero[i][j] = 1\r\n",
    "\r\n",
    "    return tablero\r\n",
    "\r\n",
    "'''\r\n",
    "Definición: Función que permite ver el tablero para conocer su funcionamiento\r\n",
    "Entradas: Tablero\r\n",
    "Salidas: Visualización del tablero\r\n",
    "'''\r\n",
    "def generar_tablero_visual(tablero):\r\n",
    "    pygame.init() # Se inicializa pygame\r\n",
    "    tam = TAM_TABLERO # Se define tamañoo tablero\r\n",
    "    pantalla = pygame.display.set_mode(tam) # Se define pantalla\r\n",
    "    pygame.display.set_caption(\"Game of War\") # Se define el titulo del tablero\r\n",
    "\r\n",
    "    # Se define la condición del while\r\n",
    "    game_over = False\r\n",
    "\r\n",
    "    # Mientras no se termine de ver\r\n",
    "    while not game_over:\r\n",
    "        # Se inicializa la pantalla\r\n",
    "        pantalla.fill(NEGRO)\r\n",
    "\r\n",
    "        # Se recorre la i de la matriz de cuadrados\r\n",
    "        for i in range(1, tam[0], TAM_CUADRADO + 1):\r\n",
    "            # Se recorre la j de la matriz de cuadrados\r\n",
    "            for j in range(1, tam[1], TAM_CUADRADO + 1):\r\n",
    "                # Si es 0 pinta el cuadrado de Azul\r\n",
    "                if(tablero[i][j] == 0):\r\n",
    "                    pygame.draw.rect(pantalla, AZUL, [i, j, TAM_CUADRADO, TAM_CUADRADO], 0)\r\n",
    "\r\n",
    "                # Si es 1 pinta el cuadrado de Rojo\r\n",
    "                else:\r\n",
    "                    pygame.draw.rect(pantalla, ROJO, [i, j, TAM_CUADRADO, TAM_CUADRADO], 0)\r\n",
    "\r\n",
    "        pygame.display.flip() # Se muestra la pantalla\r\n",
    "        time.sleep(3) # El tablero se muestra durante 3 segundos\r\n",
    "        game_over = True # Se da la condición de terminación\r\n",
    "    pygame.quit() # Se sale de pygame\r\n",
    "\r\n",
    "    "
   ],
   "outputs": [],
   "metadata": {}
  },
  {
   "cell_type": "code",
   "execution_count": 63,
   "source": [
    "generar_tablero_visual(generar_tablero(TAM_TABLERO))"
   ],
   "outputs": [],
   "metadata": {}
  },
  {
   "cell_type": "markdown",
   "source": [],
   "metadata": {}
  }
 ],
 "metadata": {
  "orig_nbformat": 4,
  "language_info": {
   "name": "python",
   "version": "3.8.11",
   "mimetype": "text/x-python",
   "codemirror_mode": {
    "name": "ipython",
    "version": 3
   },
   "pygments_lexer": "ipython3",
   "nbconvert_exporter": "python",
   "file_extension": ".py"
  },
  "kernelspec": {
   "name": "python3",
   "display_name": "Python 3.8.11 64-bit ('Ceiec': conda)"
  },
  "interpreter": {
   "hash": "6e25e0c6b71e61659e9f8263754eddc5c7d88ab8056482ebf8e1f90fdd579341"
  }
 },
 "nbformat": 4,
 "nbformat_minor": 2
}