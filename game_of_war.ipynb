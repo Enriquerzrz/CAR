{
 "cells": [
  {
   "cell_type": "markdown",
   "source": [
    "# GAME OF WAR\n"
   ],
   "metadata": {}
  },
  {
   "cell_type": "markdown",
   "source": [
    "## Librerías"
   ],
   "metadata": {}
  },
  {
   "cell_type": "code",
   "execution_count": 1,
   "source": [
    "import pygame\r\n",
    "import numpy as np\r\n",
    "import time\r\n",
    "import sys\r\n",
    "from sys import exit"
   ],
   "outputs": [
    {
     "output_type": "stream",
     "name": "stdout",
     "text": [
      "pygame 2.0.2 (SDL 2.0.16, Python 3.8.11)\n",
      "Hello from the pygame community. https://www.pygame.org/contribute.html\n"
     ]
    }
   ],
   "metadata": {}
  },
  {
   "cell_type": "markdown",
   "source": [
    "## Variables globales\n"
   ],
   "metadata": {}
  },
  {
   "cell_type": "code",
   "execution_count": 2,
   "source": [
    "AZUL = (27, 167, 249) # Color Azul\r\n",
    "ROJO = (237, 70, 70) # Color Rojo\r\n",
    "NEGRO = (0, 0, 0) # Color Negro\r\n",
    "\r\n",
    "TAM_CUADRADO = 20 # Tamaño cuadricula\r\n",
    "TAM_TABLERO = (910, 600) # Tamaño tablero\r\n",
    "TAM_PANTALLA = (925, 610)\r\n"
   ],
   "outputs": [],
   "metadata": {}
  },
  {
   "cell_type": "markdown",
   "source": [
    "## Funciones"
   ],
   "metadata": {}
  },
  {
   "cell_type": "code",
   "execution_count": 3,
   "source": [
    "'''\r\n",
    "Definición: Se genera una matriz que representará el tablero de juego\r\n",
    "Entradas: El tamaño del tablero (matriz)\r\n",
    "Salidas: El tablero terminado y relleno (matriz inicializada)\r\n",
    "'''\r\n",
    "def generar_tablero(TAM_TABLERO):\r\n",
    "    tablero = np.zeros(TAM_TABLERO) # Se hace el tablero entero de 0\r\n",
    "    \r\n",
    "    # Se rellena de 1 la mitad\r\n",
    "    for i in range(TAM_TABLERO[0]//2):\r\n",
    "        for j in range(TAM_TABLERO[1]):\r\n",
    "            tablero[i][j] = 1\r\n",
    "\r\n",
    "    return tablero\r\n",
    "\r\n",
    "'''\r\n",
    "Definición: Función que permite ver el tablero para conocer su funcionamiento\r\n",
    "Entradas: Tablero\r\n",
    "Salidas: Visualización del tablero\r\n",
    "'''\r\n",
    "def generar_tablero_visual(tablero):\r\n",
    "    pygame.init() # Se inicializa pygame\r\n",
    "    tamT = TAM_TABLERO # Se define tamaño tablero\r\n",
    "    tamP = TAM_PANTALLA # se define tamaño de pantalla\r\n",
    "    pantalla = pygame.display.set_mode(tamP) # Se define pantalla\r\n",
    "    pygame.display.set_caption(\"Game of War\") # Se define el titulo del tablero\r\n",
    "    \r\n",
    "    # Se define la condición del while\r\n",
    "    game_over = False\r\n",
    "\r\n",
    "    # Mientras no se termine de ver\r\n",
    "    while not game_over:\r\n",
    "        # Se inicializa la pantalla\r\n",
    "        pantalla.fill(NEGRO)\r\n",
    "\r\n",
    "        # Se recorre la i de la matriz de cuadrados\r\n",
    "        for i in range(1, tamT[0], TAM_CUADRADO + 1):\r\n",
    "            # Se recorre la j de la matriz de cuadrados\r\n",
    "            for j in range(1, tamT[1], TAM_CUADRADO + 1):\r\n",
    "                # Si es 0 pinta el cuadrado de Azul\r\n",
    "                if(tablero[i][j] == 0):\r\n",
    "                    pygame.draw.rect(pantalla, AZUL, [i, j, TAM_CUADRADO, TAM_CUADRADO], 0)\r\n",
    "\r\n",
    "                # Si es 1 pinta el cuadrado de Rojo\r\n",
    "                else:\r\n",
    "                    pygame.draw.rect(pantalla, ROJO, [i, j, TAM_CUADRADO, TAM_CUADRADO], 0)\r\n",
    "\r\n",
    "        pygame.display.flip() # Se muestra la pantalla\r\n",
    "        #time.sleep(5) # El tablero se muestra durante 3 segundos\r\n",
    "\r\n",
    "        #llamada a funcion detectar conflicto\r\n",
    "        detectar_conflicto(tablero)\r\n",
    "\r\n",
    "        #if comprobar final devuelve true, terminar\r\n",
    "        if(comprobar_final(tablero) == True):\r\n",
    "            game_over = True # Se da la condición de terminación\r\n",
    "\r\n",
    "    while True:\r\n",
    "        for event in pygame.event.get():\r\n",
    "            if event.type == pygame.QUIT:\r\n",
    "                pygame.quit()\r\n",
    "                exit()\r\n",
    "    #pygame.quit() # Se sale de pygame\r\n",
    "\r\n",
    "'''\r\n",
    "Definición: Función que encuentra el conflicto y da paso a la función conflicto\r\n",
    "Entradas: tablero\r\n",
    "Salidas: lugar de conflicto, si no hay conflicto devuelve fin\r\n",
    "'''\r\n",
    "def detectar_conflicto(tablero):\r\n",
    "    for i in range(TAM_TABLERO[0]//TAM_CUADRADO):\r\n",
    "        for j in range(TAM_TABLERO[1]//TAM_CUADRADO):\r\n",
    "            if(tablero[i][j] != tablero[i+1][j]):\r\n",
    "                print(\"i \", i, \"j \",j)\r\n",
    "                conflicto(tablero, i, j)\r\n",
    "\r\n",
    "'''\r\n",
    "Definición: Función que realiza el conflicto mediante probabilidades\r\n",
    "Entradas: lugar de conflicto\r\n",
    "Salidas: \r\n",
    "'''\r\n",
    "def conflicto(tablero, i, j):\r\n",
    "    tablero[i+1][j+1] = 1\r\n",
    "    return tablero[i][j]\r\n",
    "\r\n",
    "'''\r\n",
    "Definición: Función que comprueba si toda la matriz es de un color\r\n",
    "Entradas: lugar de conflicto\r\n",
    "Salidas: \r\n",
    "'''\r\n",
    "def comprobar_final(tablero):\r\n",
    "    for i in range(TAM_TABLERO[0]):\r\n",
    "        for j in range(TAM_TABLERO[1]):\r\n",
    "            if(tablero[i][j] != tablero [i+1][j]):\r\n",
    "                return False\r\n",
    "\r\n",
    "    return True\r\n",
    "\r\n",
    "    \r\n",
    "'''\r\n",
    "antes de game over = true, meter el buscar conflicto de buscar conflicto se llama a la funcion conflicto y \r\n",
    "para cambiar el game over implementar el comprobar final para poder cambiar sin problema a true\r\n",
    "'''"
   ],
   "outputs": [
    {
     "output_type": "execute_result",
     "data": {
      "text/plain": [
       "'\\nantes de game over = true, meter el buscar conflicto de buscar conflicto se llama a la funcion conflicto y \\npara cambiar el game over implementar el comprobar final para poder cambiar sin problema a true\\n'"
      ]
     },
     "metadata": {},
     "execution_count": 3
    }
   ],
   "metadata": {}
  },
  {
   "cell_type": "code",
   "execution_count": 4,
   "source": [
    "generar_tablero_visual(generar_tablero(TAM_TABLERO))\r\n"
   ],
   "outputs": [],
   "metadata": {}
  },
  {
   "cell_type": "markdown",
   "source": [],
   "metadata": {}
  }
 ],
 "metadata": {
  "interpreter": {
   "hash": "6e25e0c6b71e61659e9f8263754eddc5c7d88ab8056482ebf8e1f90fdd579341"
  },
  "kernelspec": {
   "name": "python3",
   "display_name": "Python 3.8.11 64-bit ('Ceiec': conda)"
  },
  "language_info": {
   "codemirror_mode": {
    "name": "ipython",
    "version": 3
   },
   "file_extension": ".py",
   "mimetype": "text/x-python",
   "name": "python",
   "nbconvert_exporter": "python",
   "pygments_lexer": "ipython3",
   "version": "3.8.11"
  },
  "orig_nbformat": 4
 },
 "nbformat": 4,
 "nbformat_minor": 2
}