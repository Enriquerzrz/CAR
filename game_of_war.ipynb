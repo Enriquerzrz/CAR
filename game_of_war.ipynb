{
 "cells": [
  {
   "cell_type": "markdown",
   "source": [
    "# GAME OF WAR\r\n"
   ],
   "metadata": {}
  },
  {
   "cell_type": "code",
   "execution_count": 1,
   "source": [
    "print(\"Hola mundo\")"
   ],
   "outputs": [
    {
     "output_type": "stream",
     "name": "stdout",
     "text": [
      "Hola mundo\n"
     ]
    }
   ],
   "metadata": {}
  },
  {
   "cell_type": "code",
   "execution_count": null,
   "source": [],
   "outputs": [],
   "metadata": {}
  }
 ],
 "metadata": {
  "orig_nbformat": 4,
  "language_info": {
   "name": "python",
   "version": "3.8.11",
   "mimetype": "text/x-python",
   "codemirror_mode": {
    "name": "ipython",
    "version": 3
   },
   "pygments_lexer": "ipython3",
   "nbconvert_exporter": "python",
   "file_extension": ".py"
  },
  "kernelspec": {
   "name": "python3",
   "display_name": "Python 3.8.11 64-bit ('Ceiec': conda)"
  },
  "interpreter": {
   "hash": "6e25e0c6b71e61659e9f8263754eddc5c7d88ab8056482ebf8e1f90fdd579341"
  }
 },
 "nbformat": 4,
 "nbformat_minor": 2
}