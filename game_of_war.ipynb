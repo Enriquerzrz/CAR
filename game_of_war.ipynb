{
 "cells": [
  {
   "cell_type": "markdown",
   "metadata": {},
   "source": [
    "# GAME OF WAR\n"
   ]
  },
  {
   "cell_type": "markdown",
   "metadata": {},
   "source": [
    "## Creadores\n",
    "\n",
    "Enrique Ruiz Ruiz y Sergio Morante Mur"
   ]
  },
  {
   "cell_type": "markdown",
   "metadata": {},
   "source": [
    "## Librerías"
   ]
  },
  {
   "cell_type": "code",
   "execution_count": 1,
   "metadata": {},
   "outputs": [],
   "source": [
    "import numpy as np # Se importa numpuy\n",
    "import matplotlib.pyplot as plt # Se importa matplotlib\n",
    "from matplotlib import colors # Se importa colors\n",
    "import random"
   ]
  },
  {
   "cell_type": "markdown",
   "metadata": {},
   "source": [
    "## Variables globales\n"
   ]
  },
  {
   "cell_type": "code",
   "execution_count": 2,
   "metadata": {},
   "outputs": [],
   "source": [
    "AZUL = (27, 167, 249) # Color Azul\n",
    "ROJO = (237, 70, 70) # Color Rojo\n",
    "NEGRO = (0, 0, 0) # Color Negro\n",
    "\n",
    "TAM_TABLERO = (10, 10) # Tamaño tablero\n"
   ]
  },
  {
   "cell_type": "markdown",
   "metadata": {},
   "source": [
    "## Funciones"
   ]
  },
  {
   "cell_type": "code",
   "execution_count": 3,
   "metadata": {},
   "outputs": [],
   "source": [
    "'''\n",
    "Definición: Se genera una matriz que representará el tablero de juego\n",
    "Entradas: El tamaño del tablero (matriz)\n",
    "Salidas: El tablero terminado y relleno (matriz inicializada)\n",
    "'''\n",
    "def generar_tablero(TAM_TABLERO):\n",
    "    tablero = np.zeros(TAM_TABLERO) # Se hace el tablero entero de 0\n",
    "    \n",
    "    # Se rellena de 1 la mitad\n",
    "    for i in range(TAM_TABLERO[0]//2):\n",
    "        for j in range(TAM_TABLERO[1]):\n",
    "            tablero[i][j] = 1\n",
    "\n",
    "    return tablero # Se devuelve tablero\n",
    "\n",
    "\n",
    "'''\n",
    "Definición: Función que permite ver el tablero para conocer su funcionamiento\n",
    "Entradas: Tablero\n",
    "Salidas: Visualización del tablero\n",
    "'''\n",
    "def ver_tablero(tablero):\n",
    "    plt.figure(figsize=(10,10)) # Tamaño figura\n",
    "    plt.title(\"Game of War\",size=28) # Título de la tabla\n",
    "    colormap = colors.ListedColormap([\"firebrick\",\"cornflowerblue\"]) # Colores\n",
    "    plt.imshow(tablero, cmap=colormap) # Se elije que ver\n",
    "    plt.show() # Ver tabla\n",
    "\n",
    "\n",
    "'''\n",
    "Definición: Función que encuentra el conflicto y da paso a la función conflicto\n",
    "Entradas: tablero\n",
    "Salidas: lugar de conflicto, si no hay conflicto devuelve fin\n",
    "'''\n",
    "def detectar_conflicto(tablero):\n",
    "    aux = tablero\n",
    "\n",
    "    for i in range(TAM_TABLERO[0]-1):\n",
    "        for j in range(TAM_TABLERO[1]-1):\n",
    "            # Si encuentra un enemigo a su alrededor (arriba, abajo, derecha e izquierda)\n",
    "            if(tablero[i][j] != tablero[i+1][j] or tablero[i][j] != tablero[i][j-1] or tablero[i][j] != tablero[i][j+1] or tablero[i][j] != tablero[i-1][j]):\n",
    "                # Si hay un conflicto se realiza\n",
    "                aux = conflicto(tablero, i, j)\n",
    "    \n",
    "    return aux\n",
    "\n",
    "\n",
    "'''\n",
    "Definición: Función que calcula quien gana y quien pierde\n",
    "Entradas: lugar de conflicto\n",
    "Salidas: perdedor\n",
    "'''\n",
    "def calculo_ganador(tablero, i, j):\n",
    "    perdedor = (0, 0)\n",
    "    # contador de enemigos colindantes\n",
    "    enemigo = 0\n",
    "    \n",
    "    # calculo probabilidades\n",
    "    if(tablero[i][j] != tablero[i+1][j]):\n",
    "        # si se suma 1 es que i+1 es enemigo\n",
    "        enemigo = enemigo + 1\n",
    "    if(tablero[i][j] != tablero[i][j-1]):\n",
    "        # si se suma 10 es que j-1 es enemigo\n",
    "        enemigo = enemigo + 10\n",
    "    if(tablero[i][j] != tablero[i][j+1]):\n",
    "        # si se suma 100 es que j+1 es enemigo\n",
    "        enemigo = enemigo + 100\n",
    "    if(tablero[i][j] != tablero[i-1][j]):\n",
    "        # si se suma 1000 es que i-1 es enemigo\n",
    "        enemigo = enemigo + 1000\n",
    "    \n",
    "    # si solo hay un enemigo, 50%\n",
    "    if(enemigo == 1 or enemigo == 10 or enemigo == 100 or enemigo == 1000):\n",
    "        # valor random entre 0 y 1\n",
    "        valor = random.randint(0, 1)\n",
    "        # 0 pierde [i, j]\n",
    "        if(valor == 0):\n",
    "            perdedor = (i, j)\n",
    "        # 1 pierde el cuadrado enemigo a [i, j]\n",
    "        else:\n",
    "            if(enemigo == 1):\n",
    "                perdedor = (i+1, j)\n",
    "            elif(enemigo == 10):\n",
    "                perdedor = (i, j-1)\n",
    "            elif(enemigo == 100):\n",
    "                perdedor = (i, j+1)\n",
    "            else:\n",
    "                perdedor = (i-1, j)\n",
    "\n",
    "    # si hay dos enemigos, 66% contra 33%\n",
    "    elif(enemigo == 11 or enemigo == 101 or enemigo == 1001 or enemigo == 110 or enemigo == 1010 or enemigo == 1100):\n",
    "        #valor random entre 1 y 17\n",
    "        valor = random.randint(1, 17)\n",
    "        # valor >= 7 pierde [i, j]\n",
    "        if(valor >= 7):\n",
    "            perdedor = (i, j)\n",
    "        # 4 >= valor <= 6 pierde el cuadrado enemigo a [i, j]\n",
    "        elif(valor >= 4 and valor <= 6):\n",
    "            if(enemigo == 11):\n",
    "                perdedor = (i+1, j)\n",
    "            elif(enemigo == 101):\n",
    "                perdedor = (i+1, j)\n",
    "            elif(enemigo == 1001):\n",
    "                perdedor = (i+1, j)\n",
    "            elif(enemigo == 110):\n",
    "                perdedor = (i, j-1)\n",
    "            elif(enemigo == 1010):\n",
    "                perdedor = (i, j-1)\n",
    "            else:\n",
    "                perdedor = (i, j+1)\n",
    "        # valor <= 4 pierde el cuadrado enemigo a [i, j]\n",
    "        else:\n",
    "            if(enemigo == 11):\n",
    "                perdedor = (i, j-1)\n",
    "            elif(enemigo == 101):\n",
    "                perdedor = (i, j+1)\n",
    "            elif(enemigo == 1001):\n",
    "                perdedor = (i-1, j)\n",
    "            elif(enemigo == 110):\n",
    "                perdedor = (i, j+1)\n",
    "            elif(enemigo == 1010):\n",
    "                perdedor = (i-1, j)\n",
    "            else:\n",
    "                perdedor = (i-1, j)\n",
    "\n",
    "    # si hay tres enemigos, 75% contra 25%\n",
    "    elif(enemigo == 111 or enemigo == 1011 or enemigo == 1101 or enemigo == 1110):\n",
    "        #valor random entre 1 y 48\n",
    "        valor = random.randint(0, 48)\n",
    "        # valor >= 13 pierde [i, j]\n",
    "        if(valor >= 13):\n",
    "            perdedor = (i, j)\n",
    "        # 9 >= valor <= 12 pierde el cuadrado enemigo a [i, j]\n",
    "        elif(valor >= 9 and valor <= 12):\n",
    "            if(enemigo == 111):\n",
    "                perdedor = (i+1, j)\n",
    "            if(enemigo == 1011):\n",
    "                perdedor = (i+1, j)\n",
    "            if(enemigo == 1101):\n",
    "                perdedor = (i+1, j)\n",
    "            else:\n",
    "                perdedor = (i, j+1)\n",
    "        # 5 >= valor <= 8 pierde el cuadrado enemigo a [i, j]\n",
    "        elif(valor >= 5 and valor <= 8):\n",
    "            if(enemigo == 111):\n",
    "                perdedor = (i, j+1)\n",
    "            if(enemigo == 1011):\n",
    "                perdedor = (i, j+1)\n",
    "            if(enemigo == 1101):\n",
    "                perdedor = (i, j-1)\n",
    "            else:\n",
    "                perdedor = (i, j-1)\n",
    "        # 1 >= valor <= 4 pierde el cuadrado enemigo a [i, j]\n",
    "        elif(valor >= 1 and valor <= 4):\n",
    "            if(enemigo == 111):\n",
    "                perdedor = (i, j-1)\n",
    "            if(enemigo == 1011):\n",
    "                perdedor = (i-1, j)\n",
    "            if(enemigo == 1101):\n",
    "                perdedor = (i-1, j)\n",
    "            else:\n",
    "                perdedor = (i-1, j)\n",
    "\n",
    "    # si hay cuatro enemigos, 80% contra 20%\n",
    "    else:\n",
    "        #valor random entre 1 y 48\n",
    "        valor = random.randint(0, 48)\n",
    "        # valor >= 13 pierde [i, j]\n",
    "        if(valor >= 13):\n",
    "            perdedor = (i, j)\n",
    "        # 10 >= valor <= 12 pierde el cuadrado enemigo a [i, j]\n",
    "        elif(valor >= 10 and valor <= 12):\n",
    "            perdedor = (i+1, j)\n",
    "        # 10 >= valor <= 12 pierde el cuadrado enemigo a [i, j]\n",
    "        elif(valor >= 10 and valor <= 12):\n",
    "            perdedor = (i, j+1)\n",
    "        # 10 >= valor <= 12 pierde el cuadrado enemigo a [i, j]\n",
    "        elif(valor >= 10 and valor <= 12):\n",
    "            perdedor = (i, j-1)\n",
    "        else:\n",
    "            perdedor = (i-1, j)\n",
    "\n",
    "    return perdedor\n",
    "\n",
    "\n",
    "'''\n",
    "Definición: Función que realiza el conflicto mediante probabilidades\n",
    "Entradas: lugar de conflicto\n",
    "Salidas: \n",
    "'''\n",
    "def conflicto(tablero, i, j):\n",
    "    # Se actualiza el tablero tras un conflicto\n",
    "    perd = calculo_ganador(tablero, i, j)\n",
    "    new_tab = cambio_color(tablero, perd)\n",
    "    \n",
    "    return new_tab\n",
    "\n",
    "\n",
    "'''\n",
    "Definición: Función que cambia de color al perdedor\n",
    "Entradas: Tablero y perdedor\n",
    "Salidas: Tablero actualizado\n",
    "'''\n",
    "def cambio_color(tablero, perdedor):\n",
    "    # Se cambia el color de una posición concreta\n",
    "\n",
    "    if (tablero[perdedor[0], perdedor[1]] == 1):\n",
    "        tablero[perdedor[0], perdedor[1]] = 0\n",
    "    else:\n",
    "        tablero[perdedor[0], perdedor[1]] = 1\n",
    "    \n",
    "    return tablero\n",
    "\n",
    "\n",
    "'''\n",
    "Definición: Función que comprueba si toda la matriz es de un color\n",
    "Entradas: Lugar de conflicto\n",
    "Salidas: condición de terminación\n",
    "'''\n",
    "def comprobar_final(tablero):\n",
    "    # Se comprueba si no hay más conflictos en el tablero\n",
    "    for i in range(TAM_TABLERO[0]-1):\n",
    "        for j in range(TAM_TABLERO[1]-1):\n",
    "            if(tablero[i][j] != tablero[i+1][j] or tablero[i][j] != tablero[i][j-1] or tablero[i][j] != tablero[i][j+1] or tablero[i][j] != tablero[i-1][j]):\n",
    "                return False\n",
    "            \n",
    "    return True\n",
    "\n",
    "\n",
    "'''\n",
    "Definición: Función que comprueba que equipo ha ganado\n",
    "Entradas: Tablero\n",
    "Salidas: 1 o 0\n",
    "'''\n",
    "def quien_gana(tablero):\n",
    "    aux = np.zeros(TAM_TABLERO)\n",
    "\n",
    "    # Se comrueba quien gana o pierde\n",
    "    if ((aux + tablero).any()):\n",
    "        return 0\n",
    "    else:\n",
    "        return 1\n",
    "\n",
    "\n",
    "'''\n",
    "Definición: Función que contiene todo el programa principal\n",
    "Entradas: -\n",
    "Salidas: Gandor de la batalla\n",
    "'''\n",
    "def batalla():\n",
    "    tablero = generar_tablero(TAM_TABLERO) # Se genera tablero\n",
    "    terminado = False # Se inicializa la condición de terminación\n",
    "    ver = 0 # Variable para elegir cada cuanto ver el tablero\n",
    "\n",
    "    while (terminado == False):\n",
    "        tablero = detectar_conflicto(tablero) # Actualización del tablero\n",
    "        \n",
    "        # Si han pasado 10 iteracicones\n",
    "        if ver == 10:\n",
    "            # ver_tablero(tablero) # Visualización del tablero\n",
    "            ver = 0 # Se resetea\n",
    "        else:\n",
    "            ver = ver + 1 # Se suma una vuelta\n",
    "\n",
    "        terminado = comprobar_final(tablero) # Se comprueba si se finaliza\n",
    "\n",
    "    return quien_gana(tablero) # Devolución de ganador"
   ]
  },
  {
   "cell_type": "markdown",
   "metadata": {},
   "source": [
    "# Ejecución"
   ]
  },
  {
   "cell_type": "code",
   "execution_count": 7,
   "metadata": {},
   "outputs": [
    {
     "name": "stdout",
     "output_type": "stream",
     "text": [
      "Los rojos han ganado 55 veces.\n",
      "los azules han ganado 44 veces.\n"
     ]
    }
   ],
   "source": [
    "# Se ejecuta la batalla\n",
    "r = 0\n",
    "unos = 0\n",
    "zeros = 0\n",
    "\n",
    "for i in range(1, 100):\n",
    "    r = batalla()\n",
    "\n",
    "    if r == 0:\n",
    "        zeros = zeros+1\n",
    "    else:\n",
    "        unos = unos+1\n",
    "\n",
    "print(\"Los rojos han ganado \" + str(unos) + \" veces.\")\n",
    "print(\"los azules han ganado \" + str(zeros) + \" veces.\")"
   ]
  },
  {
   "cell_type": "markdown",
   "metadata": {},
   "source": [
    "# Pruebas de visualización"
   ]
  },
  {
   "cell_type": "code",
   "execution_count": 10,
   "metadata": {},
   "outputs": [
    {
     "data": {
      "image/png": "[encoded data removed]",
      "text/plain": [
       "<Figure size 720x720 with 1 Axes>"
      ]
     },
     "metadata": {
      "needs_background": "light"
     },
     "output_type": "display_data"
    },
    {
     "data": {
      "image/png": "[encoded data removed]",
      "text/plain": [
       "<Figure size 720x720 with 1 Axes>"
      ]
     },
     "metadata": {
      "needs_background": "light"
     },
     "output_type": "display_data"
    }
   ],
   "source": [
    "tab = generar_tablero(TAM_TABLERO)\n",
    "ver_tablero(tab)\n",
    "\n",
    "tab[5][6] = 1\n",
    "ver_tablero(tab)"
   ]
  },
  {
   "cell_type": "markdown",
   "metadata": {},
   "source": []
  },
  {
   "cell_type": "markdown",
   "metadata": {},
   "source": []
  }
 ],
 "metadata": {
  "interpreter": {
   "hash": "6e25e0c6b71e61659e9f8263754eddc5c7d88ab8056482ebf8e1f90fdd579341"
  },
  "kernelspec": {
   "display_name": "Python 3.8.11 64-bit ('Ceiec': conda)",
   "name": "python3"
  },
  "language_info": {
   "codemirror_mode": {
    "name": "ipython",
    "version": 3
   },
   "file_extension": ".py",
   "mimetype": "text/x-python",
   "name": "python",
   "nbconvert_exporter": "python",
   "pygments_lexer": "ipython3",
   "version": "3.8.11"
  },
  "orig_nbformat": 4
 },
 "nbformat": 4,
 "nbformat_minor": 2
}
